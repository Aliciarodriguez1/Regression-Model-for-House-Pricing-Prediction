{
 "cells": [
  {
   "cell_type": "markdown",
   "metadata": {},
   "source": [
    "**Ames, Housing Mode**l"
   ]
  },
  {
   "cell_type": "markdown",
   "metadata": {},
   "source": [
    "**Problem Statement**"
   ]
  },
  {
   "cell_type": "markdown",
   "metadata": {},
   "source": [
    "To predict  house pricing in Ames, Iowa for house buyers and sellers by analyzing qualitative and quantitative features by creating a  regression model.\n",
    "\n",
    "\n",
    "\n"
   ]
  },
  {
   "cell_type": "markdown",
   "metadata": {},
   "source": [
    "**Executive Summary**"
   ]
  },
  {
   "cell_type": "markdown",
   "metadata": {},
   "source": [
    "**Overview**"
   ]
  },
  {
   "cell_type": "markdown",
   "metadata": {},
   "source": [
    "Kaggle which is an online community of data scientists and machine learning apprentices have shared the Ames Housing Dataset which has 81 columns of different house features.This dataset consists of 39 quantitave features and 42 qualitative features which will be analyzed by category. This model will make predictions of the house pricing by analyzing in detail both feature groups and their correlation between the sale price.\n",
    "\n",
    "\n",
    "\n"
   ]
  },
  {
   "cell_type": "markdown",
   "metadata": {},
   "source": [
    "**Content**"
   ]
  },
  {
   "cell_type": "markdown",
   "metadata": {},
   "source": [
    "-Dataset Cleaning\n",
    "\n",
    "-Exploratory Data Analysis\n",
    "\n",
    "-Data Visualization\n",
    "\n",
    "-Pre-processing\n",
    "\n",
    "-Feature Engineering\n",
    "\n",
    "-Modeling\n",
    "\n",
    "-Evaluation of the Model\n",
    "\n",
    "-Conclusions and recommendations"
   ]
  },
  {
   "cell_type": "markdown",
   "metadata": {},
   "source": [
    "**Analysis and Modeling**"
   ]
  },
  {
   "cell_type": "markdown",
   "metadata": {},
   "source": [
    "Initially the features were evaluated with the data library to see their specific representation and categories. . After being familiarized with the features, the cleaning of the dataframes began by checking the types of each column or feature to see if they were correct and making the change to their correct types. \n",
    "\n",
    "This dataset contained null values, by observing the data library there were some houses for example, that didn't have pool or other features. Regarding to this, 3 approaches were taken by looking at the library and plotting the percentage of null values per column.\n",
    "\n",
    "1) Some columns with high null values were drop.\n",
    "2) The quantitative columns were fill with the mean of that specific column.\n",
    "3) The qualitative columns were fill with the mode of that specific column.\n",
    "\n",
    "Having these parameters fixed, the data exploratory analysis started by plotting a heatmap which helped to point the correlations between each feature and the saleprice. Eleven quantitative features had a correlation greater than a 0.50, these were taken into further analysis by pair plotting them with the sale price. Scatter plots were analyzed to see if there were outliers that had to be removed and histograms showed how was the distribution among the features and our y = sale price. Some features had outliers and some features were skew.\n",
    "\n",
    "Following the steps mentioned before, the feature engineering took place by analyzing the high correlated features and combining them for creating columns to improve the normal distribution. This was observed  by creating histograms, some combinations didn't get better, so they weren't add to the data frame.\n",
    "\n",
    "As a next step the categorical feature analysis began, for this boxplots were created to see their mean, outliers, the amount of subcategories in those columns to take the decision with which features were going to be created as dummies. Four features were dummify applying a 0 for False or a 1 for True; the other categorical columns were removed from the dataframe.\n",
    "\n",
    "After finishing the exploratory data analysis, the data visualization, the pre-processing and the feature engineering; the data was ready fo modeling. As a first step, matrix \"X\" and target vector \"y\" were created; \"X\" consisted in the predictors (features) and the \"y\"  in the prediction =  sale price. For \"X\" 39 features were consider. Then the train test and split was done and the data was scale using the standard scalar; this ir a very important step to do because the features have different scales that can shoot the data. \n",
    "\n",
    "The model of this project is a linear regression, the model was instantiated and fitted. Different metrics were analyzed like the R2 scores, crossvalidation, coefficients, etc. The model was also regularize using OLS and Ridge.\n",
    "\n",
    "\n",
    "\n"
   ]
  },
  {
   "cell_type": "markdown",
   "metadata": {},
   "source": [
    "**Conclusions and next steps**"
   ]
  },
  {
   "cell_type": "markdown",
   "metadata": {},
   "source": [
    "There are specific quantitative and qualitative predictors  that affect the sale price more than others.\n",
    "\n",
    "The scores before and after regularization are very similar and consistent  the train data had an R2 of  0.87 and for the test data an R2: 0.88.\n",
    "\n",
    "The R2 scores without and with regularizations were almost the same.\n",
    "\n",
    "Using the model coefficients per feature can help the house sellers to observe the pricing per feature and obtain more profit from it.\n",
    "\n",
    "Using the model coefficients per feature can help the house buyers to observe the pricing  per feature according to their dream home and budget.\n",
    "\n",
    "Apply Lasso regularization."
   ]
  }
 ],
 "metadata": {
  "kernelspec": {
   "display_name": "Python 3",
   "language": "python",
   "name": "python3"
  },
  "language_info": {
   "codemirror_mode": {
    "name": "ipython",
    "version": 3
   },
   "file_extension": ".py",
   "mimetype": "text/x-python",
   "name": "python",
   "nbconvert_exporter": "python",
   "pygments_lexer": "ipython3",
   "version": "3.7.6"
  }
 },
 "nbformat": 4,
 "nbformat_minor": 4
}
