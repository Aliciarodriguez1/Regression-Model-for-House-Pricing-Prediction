{
 "cells": [
  {
   "cell_type": "code",
   "execution_count": 1,
   "metadata": {},
   "outputs": [],
   "source": [
    "import numpy as np\n",
    "import pandas as pd\n",
    "import seaborn as sns\n",
    "from sklearn.linear_model import LinearRegression\n",
    "from sklearn.model_selection import train_test_split, cross_val_score\n",
    "from scipy import stats\n",
    "from sklearn.preprocessing import PolynomialFeatures, StandardScaler\n",
    "import statsmodels.api as sm\n",
    "import matplotlib.pyplot as plt\n",
    "from sklearn import metrics\n",
    "from sklearn.linear_model import Ridge\n",
    "%matplotlib inline\n",
    "\n"
   ]
  },
  {
   "cell_type": "code",
   "execution_count": 2,
   "metadata": {},
   "outputs": [],
   "source": [
    "#pull the dataframe\n",
    "%store -r train_new\n",
    "%store -r test_new\n",
    "%store -r test_id"
   ]
  },
  {
   "cell_type": "markdown",
   "metadata": {},
   "source": [
    "**5) Creation of features matrix X and target vector y**"
   ]
  },
  {
   "cell_type": "code",
   "execution_count": 3,
   "metadata": {},
   "outputs": [],
   "source": [
    "testy = test_new.drop(['id', 'pid', 'ms_subclass', 'year_built', 'mas_vnr_area', 'total_bsmt_sf', '1st_flr_sf', 'totrms_abvgrd', '3ssn_porch','misc_val', 'mo_sold',  'yr_sold'], axis=1)"
   ]
  },
  {
   "cell_type": "code",
   "execution_count": 4,
   "metadata": {},
   "outputs": [],
   "source": [
    "features = [ 'lot_area', 'overall_qual','overall_cond', 'year_remod_add','bsmtfin_sf_1',\n",
    "            'bsmtfin_sf_2', 'bsmt_unf_sf', '2nd_flr_sf',\n",
    "             'low_qual_fin_sf', 'gr_liv_area', 'bsmt_full_bath', 'bsmt_half_bath',\n",
    "       'full_bath', 'half_bath', 'bedroom_abvgr', 'kitchen_abvgr', 'fireplaces',\n",
    "        'garage_cars','garage_area', 'wood_deck_sf', 'open_porch_sf', 'enclosed_porch', \n",
    "       'screen_porch', 'pool_area', \n",
    "       'totrms_abvgrd & gr_liv_area', 'house_quality_over_years',\n",
    "       'bldg_type_1Fam', 'bldg_type_2fmCon', 'bldg_type_Duplex',\n",
    "       'bldg_type_Twnhs', 'bldg_type_TwnhsE', 'land_contour_Bnk',\n",
    "       'land_contour_HLS', 'land_contour_Low', 'land_contour_Lvl',\n",
    "       'street_Grvl', 'street_Pave', 'central_air_N', 'central_air_Y']\n",
    "\n",
    "       \n",
    "X = train_new[features]\n",
    "y = train_new['saleprice']"
   ]
  },
  {
   "cell_type": "code",
   "execution_count": 5,
   "metadata": {
    "scrolled": true
   },
   "outputs": [
    {
     "data": {
      "text/plain": [
       "(2043, 39)"
      ]
     },
     "execution_count": 5,
     "metadata": {},
     "output_type": "execute_result"
    }
   ],
   "source": [
    "X.shape"
   ]
  },
  {
   "cell_type": "code",
   "execution_count": 6,
   "metadata": {
    "scrolled": true
   },
   "outputs": [
    {
     "data": {
      "text/plain": [
       "(2043,)"
      ]
     },
     "execution_count": 6,
     "metadata": {},
     "output_type": "execute_result"
    }
   ],
   "source": [
    "y.shape"
   ]
  },
  {
   "cell_type": "code",
   "execution_count": 7,
   "metadata": {},
   "outputs": [
    {
     "data": {
      "text/plain": [
       "(878, 39)"
      ]
     },
     "execution_count": 7,
     "metadata": {},
     "output_type": "execute_result"
    }
   ],
   "source": [
    "testy.shape"
   ]
  },
  {
   "cell_type": "markdown",
   "metadata": {},
   "source": [
    "**6) Train, Test and Split**"
   ]
  },
  {
   "cell_type": "code",
   "execution_count": 8,
   "metadata": {},
   "outputs": [],
   "source": [
    "X_train, X_test, y_train, y_test = train_test_split(X, y, random_state=42)"
   ]
  },
  {
   "cell_type": "markdown",
   "metadata": {},
   "source": [
    "**7) Standard Scalar**"
   ]
  },
  {
   "cell_type": "code",
   "execution_count": 9,
   "metadata": {
    "scrolled": true
   },
   "outputs": [
    {
     "name": "stdout",
     "output_type": "stream",
     "text": [
      "[9.86774608e+03 6.11227154e+00 5.56919060e+00 1.98418799e+03\n",
      " 4.37022846e+02 4.94262402e+01 5.65518277e+02 3.27450392e+02\n",
      " 5.81984334e+00 1.48834399e+03 4.25587467e-01 6.65796345e-02\n",
      " 1.57310705e+00 3.69451697e-01 2.82832898e+00 1.03981723e+00\n",
      " 5.88772846e-01 1.76566580e+00 4.70937337e+02 9.13263708e+01\n",
      " 4.71044386e+01 2.17748042e+01 1.58701044e+01 2.74804178e+00\n",
      " 1.01198420e+04 1.20765855e+04 8.28328982e-01 2.21932115e-02\n",
      " 3.45953003e-02 3.52480418e-02 7.96344648e-02 3.78590078e-02\n",
      " 4.11227154e-02 1.89295039e-02 9.02088773e-01 3.26370757e-03\n",
      " 9.96736292e-01 6.59268930e-02 9.34073107e-01]\n",
      "[5.28933736e+03 1.42540574e+00 1.10884934e+00 2.10358680e+01\n",
      " 4.42138042e+02 1.66551658e+02 4.44386946e+02 4.23183098e+02\n",
      " 5.45498447e+01 4.77185698e+02 5.22669496e-01 2.57027695e-01\n",
      " 5.43662761e-01 4.97310219e-01 8.13500046e-01 1.98839894e-01\n",
      " 6.34581590e-01 7.65131954e-01 2.16532787e+02 1.21092543e+02\n",
      " 6.63615546e+01 5.90221852e+01 5.63353741e+01 4.15453820e+01\n",
      " 5.64085892e+03 2.92935222e+03 3.77094258e-01 1.47311482e-01\n",
      " 1.82752470e-01 1.84406121e-01 2.70726461e-01 1.90855189e-01\n",
      " 1.98574011e-01 1.36276109e-01 2.97194581e-01 5.70355660e-02\n",
      " 5.70355660e-02 2.48154262e-01 2.48154262e-01]\n"
     ]
    }
   ],
   "source": [
    "ss = StandardScaler() # instantiating \n",
    "scaled_Xtrain = ss.fit_transform(X_train) #fitting\n",
    "\n",
    "print(ss.mean_)\n",
    "print(ss.scale_)\n",
    "\n",
    "scal_test = ss.transform(X_test)"
   ]
  },
  {
   "cell_type": "markdown",
   "metadata": {},
   "source": [
    "**8) Instantiate the Model**"
   ]
  },
  {
   "cell_type": "code",
   "execution_count": 10,
   "metadata": {},
   "outputs": [],
   "source": [
    "lm = LinearRegression()"
   ]
  },
  {
   "cell_type": "markdown",
   "metadata": {},
   "source": [
    "**9) Fit Model**"
   ]
  },
  {
   "cell_type": "code",
   "execution_count": 11,
   "metadata": {},
   "outputs": [
    {
     "data": {
      "text/plain": [
       "LinearRegression(copy_X=True, fit_intercept=True, n_jobs=None, normalize=False)"
      ]
     },
     "execution_count": 11,
     "metadata": {},
     "output_type": "execute_result"
    }
   ],
   "source": [
    "lm.fit(X_train,y_train)\n"
   ]
  },
  {
   "cell_type": "markdown",
   "metadata": {},
   "source": [
    "**10) Metrics and Scores**"
   ]
  },
  {
   "cell_type": "code",
   "execution_count": 12,
   "metadata": {
    "scrolled": true
   },
   "outputs": [
    {
     "data": {
      "text/html": [
       "<div>\n",
       "<style scoped>\n",
       "    .dataframe tbody tr th:only-of-type {\n",
       "        vertical-align: middle;\n",
       "    }\n",
       "\n",
       "    .dataframe tbody tr th {\n",
       "        vertical-align: top;\n",
       "    }\n",
       "\n",
       "    .dataframe thead th {\n",
       "        text-align: right;\n",
       "    }\n",
       "</style>\n",
       "<table border=\"1\" class=\"dataframe\">\n",
       "  <thead>\n",
       "    <tr style=\"text-align: right;\">\n",
       "      <th></th>\n",
       "      <th>0</th>\n",
       "    </tr>\n",
       "  </thead>\n",
       "  <tbody>\n",
       "    <tr>\n",
       "      <th>lot_area</th>\n",
       "      <td>1.337883</td>\n",
       "    </tr>\n",
       "    <tr>\n",
       "      <th>overall_qual</th>\n",
       "      <td>-192559.946812</td>\n",
       "    </tr>\n",
       "    <tr>\n",
       "      <th>overall_cond</th>\n",
       "      <td>7150.674340</td>\n",
       "    </tr>\n",
       "    <tr>\n",
       "      <th>year_remod_add</th>\n",
       "      <td>163.102444</td>\n",
       "    </tr>\n",
       "    <tr>\n",
       "      <th>bsmtfin_sf_1</th>\n",
       "      <td>46.732170</td>\n",
       "    </tr>\n",
       "    <tr>\n",
       "      <th>bsmtfin_sf_2</th>\n",
       "      <td>23.699205</td>\n",
       "    </tr>\n",
       "    <tr>\n",
       "      <th>bsmt_unf_sf</th>\n",
       "      <td>24.070835</td>\n",
       "    </tr>\n",
       "    <tr>\n",
       "      <th>2nd_flr_sf</th>\n",
       "      <td>-2.201138</td>\n",
       "    </tr>\n",
       "    <tr>\n",
       "      <th>low_qual_fin_sf</th>\n",
       "      <td>-31.842083</td>\n",
       "    </tr>\n",
       "    <tr>\n",
       "      <th>gr_liv_area</th>\n",
       "      <td>36.449179</td>\n",
       "    </tr>\n",
       "    <tr>\n",
       "      <th>bsmt_full_bath</th>\n",
       "      <td>915.126454</td>\n",
       "    </tr>\n",
       "    <tr>\n",
       "      <th>bsmt_half_bath</th>\n",
       "      <td>-2281.592319</td>\n",
       "    </tr>\n",
       "    <tr>\n",
       "      <th>full_bath</th>\n",
       "      <td>-6258.474569</td>\n",
       "    </tr>\n",
       "    <tr>\n",
       "      <th>half_bath</th>\n",
       "      <td>-2995.639047</td>\n",
       "    </tr>\n",
       "    <tr>\n",
       "      <th>bedroom_abvgr</th>\n",
       "      <td>-9511.239777</td>\n",
       "    </tr>\n",
       "    <tr>\n",
       "      <th>kitchen_abvgr</th>\n",
       "      <td>-14957.155715</td>\n",
       "    </tr>\n",
       "    <tr>\n",
       "      <th>fireplaces</th>\n",
       "      <td>2428.368331</td>\n",
       "    </tr>\n",
       "    <tr>\n",
       "      <th>garage_cars</th>\n",
       "      <td>-3150.831244</td>\n",
       "    </tr>\n",
       "    <tr>\n",
       "      <th>garage_area</th>\n",
       "      <td>30.079106</td>\n",
       "    </tr>\n",
       "    <tr>\n",
       "      <th>wood_deck_sf</th>\n",
       "      <td>7.483383</td>\n",
       "    </tr>\n",
       "    <tr>\n",
       "      <th>open_porch_sf</th>\n",
       "      <td>14.020111</td>\n",
       "    </tr>\n",
       "    <tr>\n",
       "      <th>enclosed_porch</th>\n",
       "      <td>20.243722</td>\n",
       "    </tr>\n",
       "    <tr>\n",
       "      <th>screen_porch</th>\n",
       "      <td>59.987131</td>\n",
       "    </tr>\n",
       "    <tr>\n",
       "      <th>pool_area</th>\n",
       "      <td>-25.332008</td>\n",
       "    </tr>\n",
       "    <tr>\n",
       "      <th>totrms_abvgrd &amp; gr_liv_area</th>\n",
       "      <td>3.368251</td>\n",
       "    </tr>\n",
       "    <tr>\n",
       "      <th>house_quality_over_years</th>\n",
       "      <td>105.032732</td>\n",
       "    </tr>\n",
       "    <tr>\n",
       "      <th>bldg_type_1Fam</th>\n",
       "      <td>6253.039967</td>\n",
       "    </tr>\n",
       "    <tr>\n",
       "      <th>bldg_type_2fmCon</th>\n",
       "      <td>-6749.621710</td>\n",
       "    </tr>\n",
       "    <tr>\n",
       "      <th>bldg_type_Duplex</th>\n",
       "      <td>5562.960629</td>\n",
       "    </tr>\n",
       "    <tr>\n",
       "      <th>bldg_type_Twnhs</th>\n",
       "      <td>-3180.988208</td>\n",
       "    </tr>\n",
       "    <tr>\n",
       "      <th>bldg_type_TwnhsE</th>\n",
       "      <td>-1885.390678</td>\n",
       "    </tr>\n",
       "    <tr>\n",
       "      <th>land_contour_Bnk</th>\n",
       "      <td>-1383.644476</td>\n",
       "    </tr>\n",
       "    <tr>\n",
       "      <th>land_contour_HLS</th>\n",
       "      <td>18965.870858</td>\n",
       "    </tr>\n",
       "    <tr>\n",
       "      <th>land_contour_Low</th>\n",
       "      <td>-12481.444402</td>\n",
       "    </tr>\n",
       "    <tr>\n",
       "      <th>land_contour_Lvl</th>\n",
       "      <td>-5100.781979</td>\n",
       "    </tr>\n",
       "    <tr>\n",
       "      <th>street_Grvl</th>\n",
       "      <td>-1379.089943</td>\n",
       "    </tr>\n",
       "    <tr>\n",
       "      <th>street_Pave</th>\n",
       "      <td>1379.089943</td>\n",
       "    </tr>\n",
       "    <tr>\n",
       "      <th>central_air_N</th>\n",
       "      <td>7552.612317</td>\n",
       "    </tr>\n",
       "    <tr>\n",
       "      <th>central_air_Y</th>\n",
       "      <td>-7552.612317</td>\n",
       "    </tr>\n",
       "  </tbody>\n",
       "</table>\n",
       "</div>"
      ],
      "text/plain": [
       "                                         0\n",
       "lot_area                          1.337883\n",
       "overall_qual                -192559.946812\n",
       "overall_cond                   7150.674340\n",
       "year_remod_add                  163.102444\n",
       "bsmtfin_sf_1                     46.732170\n",
       "bsmtfin_sf_2                     23.699205\n",
       "bsmt_unf_sf                      24.070835\n",
       "2nd_flr_sf                       -2.201138\n",
       "low_qual_fin_sf                 -31.842083\n",
       "gr_liv_area                      36.449179\n",
       "bsmt_full_bath                  915.126454\n",
       "bsmt_half_bath                -2281.592319\n",
       "full_bath                     -6258.474569\n",
       "half_bath                     -2995.639047\n",
       "bedroom_abvgr                 -9511.239777\n",
       "kitchen_abvgr                -14957.155715\n",
       "fireplaces                     2428.368331\n",
       "garage_cars                   -3150.831244\n",
       "garage_area                      30.079106\n",
       "wood_deck_sf                      7.483383\n",
       "open_porch_sf                    14.020111\n",
       "enclosed_porch                   20.243722\n",
       "screen_porch                     59.987131\n",
       "pool_area                       -25.332008\n",
       "totrms_abvgrd & gr_liv_area       3.368251\n",
       "house_quality_over_years        105.032732\n",
       "bldg_type_1Fam                 6253.039967\n",
       "bldg_type_2fmCon              -6749.621710\n",
       "bldg_type_Duplex               5562.960629\n",
       "bldg_type_Twnhs               -3180.988208\n",
       "bldg_type_TwnhsE              -1885.390678\n",
       "land_contour_Bnk              -1383.644476\n",
       "land_contour_HLS              18965.870858\n",
       "land_contour_Low             -12481.444402\n",
       "land_contour_Lvl              -5100.781979\n",
       "street_Grvl                   -1379.089943\n",
       "street_Pave                    1379.089943\n",
       "central_air_N                  7552.612317\n",
       "central_air_Y                 -7552.612317"
      ]
     },
     "execution_count": 12,
     "metadata": {},
     "output_type": "execute_result"
    }
   ],
   "source": [
    "pd.DataFrame(lm.coef_, index = X.columns)"
   ]
  },
  {
   "cell_type": "code",
   "execution_count": 13,
   "metadata": {
    "scrolled": false
   },
   "outputs": [
    {
     "data": {
      "text/plain": [
       "-364669.8733688397"
      ]
     },
     "execution_count": 13,
     "metadata": {},
     "output_type": "execute_result"
    }
   ],
   "source": [
    "lm.intercept_"
   ]
  },
  {
   "cell_type": "code",
   "execution_count": 14,
   "metadata": {},
   "outputs": [
    {
     "data": {
      "text/plain": [
       "array([ 1.33788336e+00, -1.92559947e+05,  7.15067434e+03,  1.63102444e+02,\n",
       "        4.67321696e+01,  2.36992045e+01,  2.40708352e+01, -2.20113827e+00,\n",
       "       -3.18420830e+01,  3.64491787e+01,  9.15126454e+02, -2.28159232e+03,\n",
       "       -6.25847457e+03, -2.99563905e+03, -9.51123978e+03, -1.49571557e+04,\n",
       "        2.42836833e+03, -3.15083124e+03,  3.00791063e+01,  7.48338317e+00,\n",
       "        1.40201114e+01,  2.02437220e+01,  5.99871310e+01, -2.53320083e+01,\n",
       "        3.36825090e+00,  1.05032732e+02,  6.25303997e+03, -6.74962171e+03,\n",
       "        5.56296063e+03, -3.18098821e+03, -1.88539068e+03, -1.38364448e+03,\n",
       "        1.89658709e+04, -1.24814444e+04, -5.10078198e+03, -1.37908994e+03,\n",
       "        1.37908994e+03,  7.55261232e+03, -7.55261232e+03])"
      ]
     },
     "execution_count": 14,
     "metadata": {},
     "output_type": "execute_result"
    }
   ],
   "source": [
    "lm.coef_"
   ]
  },
  {
   "cell_type": "code",
   "execution_count": 15,
   "metadata": {},
   "outputs": [
    {
     "data": {
      "text/plain": [
       "0.8919046062023207"
      ]
     },
     "execution_count": 15,
     "metadata": {},
     "output_type": "execute_result"
    }
   ],
   "source": [
    "lm.score(X_train, y_train)"
   ]
  },
  {
   "cell_type": "code",
   "execution_count": 16,
   "metadata": {},
   "outputs": [
    {
     "data": {
      "text/plain": [
       "0.8734812384067475"
      ]
     },
     "execution_count": 16,
     "metadata": {},
     "output_type": "execute_result"
    }
   ],
   "source": [
    "lm.score(X_test, y_test)"
   ]
  },
  {
   "cell_type": "code",
   "execution_count": 17,
   "metadata": {
    "scrolled": true
   },
   "outputs": [
    {
     "data": {
      "text/plain": [
       "0.8817995686837262"
      ]
     },
     "execution_count": 17,
     "metadata": {},
     "output_type": "execute_result"
    }
   ],
   "source": [
    "cross_val_score(lm, X_train, y_train, cv=5).mean()"
   ]
  },
  {
   "cell_type": "code",
   "execution_count": 18,
   "metadata": {},
   "outputs": [
    {
     "data": {
      "text/plain": [
       "array([ 1.33788336e+00, -1.92559947e+05,  7.15067434e+03,  1.63102444e+02,\n",
       "        4.67321696e+01,  2.36992045e+01,  2.40708352e+01, -2.20113827e+00,\n",
       "       -3.18420830e+01,  3.64491787e+01,  9.15126454e+02, -2.28159232e+03,\n",
       "       -6.25847457e+03, -2.99563905e+03, -9.51123978e+03, -1.49571557e+04,\n",
       "        2.42836833e+03, -3.15083124e+03,  3.00791063e+01,  7.48338317e+00,\n",
       "        1.40201114e+01,  2.02437220e+01,  5.99871310e+01, -2.53320083e+01,\n",
       "        3.36825090e+00,  1.05032732e+02,  6.25303997e+03, -6.74962171e+03,\n",
       "        5.56296063e+03, -3.18098821e+03, -1.88539068e+03, -1.38364448e+03,\n",
       "        1.89658709e+04, -1.24814444e+04, -5.10078198e+03, -1.37908994e+03,\n",
       "        1.37908994e+03,  7.55261232e+03, -7.55261232e+03])"
      ]
     },
     "execution_count": 18,
     "metadata": {},
     "output_type": "execute_result"
    }
   ],
   "source": [
    "lm.coef_"
   ]
  },
  {
   "cell_type": "code",
   "execution_count": 19,
   "metadata": {},
   "outputs": [],
   "source": [
    "beta_summary = pd.DataFrame(lm.coef_, index=X_train.columns, columns=['beta'])"
   ]
  },
  {
   "cell_type": "code",
   "execution_count": 20,
   "metadata": {},
   "outputs": [
    {
     "data": {
      "text/plain": [
       "land_contour_HLS                18965.870858\n",
       "central_air_N                    7552.612317\n",
       "overall_cond                     7150.674340\n",
       "bldg_type_1Fam                   6253.039967\n",
       "bldg_type_Duplex                 5562.960629\n",
       "fireplaces                       2428.368331\n",
       "street_Pave                      1379.089943\n",
       "bsmt_full_bath                    915.126454\n",
       "year_remod_add                    163.102444\n",
       "house_quality_over_years          105.032732\n",
       "screen_porch                       59.987131\n",
       "bsmtfin_sf_1                       46.732170\n",
       "gr_liv_area                        36.449179\n",
       "garage_area                        30.079106\n",
       "bsmt_unf_sf                        24.070835\n",
       "bsmtfin_sf_2                       23.699205\n",
       "enclosed_porch                     20.243722\n",
       "open_porch_sf                      14.020111\n",
       "wood_deck_sf                        7.483383\n",
       "totrms_abvgrd & gr_liv_area         3.368251\n",
       "lot_area                            1.337883\n",
       "2nd_flr_sf                         -2.201138\n",
       "pool_area                         -25.332008\n",
       "low_qual_fin_sf                   -31.842083\n",
       "street_Grvl                     -1379.089943\n",
       "land_contour_Bnk                -1383.644476\n",
       "bldg_type_TwnhsE                -1885.390678\n",
       "bsmt_half_bath                  -2281.592319\n",
       "half_bath                       -2995.639047\n",
       "garage_cars                     -3150.831244\n",
       "bldg_type_Twnhs                 -3180.988208\n",
       "land_contour_Lvl                -5100.781979\n",
       "full_bath                       -6258.474569\n",
       "bldg_type_2fmCon                -6749.621710\n",
       "central_air_Y                   -7552.612317\n",
       "bedroom_abvgr                   -9511.239777\n",
       "land_contour_Low               -12481.444402\n",
       "kitchen_abvgr                  -14957.155715\n",
       "overall_qual                  -192559.946812\n",
       "Name: beta, dtype: float64"
      ]
     },
     "execution_count": 20,
     "metadata": {},
     "output_type": "execute_result"
    }
   ],
   "source": [
    "beta_summary['beta'].sort_values(ascending=False)"
   ]
  },
  {
   "cell_type": "markdown",
   "metadata": {},
   "source": [
    "**11) Regularization**"
   ]
  },
  {
   "cell_type": "code",
   "execution_count": 21,
   "metadata": {},
   "outputs": [],
   "source": [
    "sc = StandardScaler()\n",
    "Z_train = sc.fit_transform(X_train)\n",
    "Z_test = sc.transform(X_test)\n"
   ]
  },
  {
   "cell_type": "markdown",
   "metadata": {},
   "source": [
    "**a) Ridge**"
   ]
  },
  {
   "cell_type": "code",
   "execution_count": 24,
   "metadata": {},
   "outputs": [
    {
     "name": "stdout",
     "output_type": "stream",
     "text": [
      "0.8772510798399797\n",
      "0.8602916548052707\n"
     ]
    }
   ],
   "source": [
    "# Instantiate.\n",
    "ridge = Ridge(alpha=100\n",
    "             )\n",
    "\n",
    "# Fit.\n",
    "ridge.fit(Z_train, y_train)\n",
    "\n",
    "# Evaluate model using R2.\n",
    "print(ridge.score(Z_train, y_train))\n",
    "print(ridge.score(Z_test, y_test))"
   ]
  },
  {
   "cell_type": "markdown",
   "metadata": {},
   "source": [
    "**12) Predictions**"
   ]
  },
  {
   "cell_type": "code",
   "execution_count": 25,
   "metadata": {},
   "outputs": [
    {
     "data": {
      "text/plain": [
       "array([184732.35950977, 233197.65814879, 123098.36614904, 208548.9299373 ,\n",
       "       393518.99157373, 277165.49574871, 316323.45764506, 226244.69703098,\n",
       "       118327.36088067, 109084.28953808, 176920.18647444, 321158.43526879,\n",
       "       153692.28152929,  52789.81226397, 279558.25262121, 143154.33677971,\n",
       "       140985.71308543, 114114.25648717, 149693.38592867, 253343.84507747,\n",
       "       141610.02032924, 146278.92594138, 115699.77674282, 307195.80200928,\n",
       "       112269.94740331, 215960.94783383, 267205.93043542, 141741.03965262,\n",
       "       147181.09686992, 227627.52704601, 234042.35789462, 178398.8928563 ,\n",
       "       172866.73733745, 204075.5877555 , 144013.31339793, 132661.87639764,\n",
       "       110756.47932678,  69304.96990437, 117380.06466428, 219602.45842717,\n",
       "       271693.59403313,  84287.35548505, 328652.11222147, 190503.92529537,\n",
       "       120853.25727635, 357874.55930905, 111597.36668026, 216947.70330791,\n",
       "       135310.0794934 , 154337.11010369, 250750.58321556, 153441.31363542,\n",
       "       155854.59331555, 154877.74206704, 219204.35870757,  39165.81354869,\n",
       "       319512.86544409, 172670.61698907, 113883.62756324, 195221.14484259,\n",
       "       315566.66394126,  92655.82363776, 243264.48761119, 241027.20273854,\n",
       "       169055.01597302, 126097.60910773, 218221.81043797, 187911.8895716 ,\n",
       "       202801.7213236 , 100918.75030779, 139932.21961518, 176544.17018042,\n",
       "       198023.8451371 , 120776.10984394,  80919.92929943, 123868.56796101,\n",
       "        76214.2251572 ,  88522.05915915, 199129.09795798, 396871.08979565,\n",
       "       111401.65451786, 186328.66632286, 134371.02787871, -20244.4726939 ,\n",
       "       150613.49190034, 328778.97632065, 125704.06427452, 308632.42096194,\n",
       "       120011.44477536, 207565.3851373 , 128883.51713413, 165707.14640079,\n",
       "       127039.18563191, 197873.02506861, 210571.80793049, 169826.82690545,\n",
       "        74853.66270686, 101023.45410101, 135199.50846437, 265724.76983601,\n",
       "       128553.21347977, 175011.3432107 , 393218.68780317, 318266.51921556,\n",
       "       233598.95540398, 206522.4154677 , 128325.51192268, 150330.04749414,\n",
       "       168657.16070196, 134681.57903682, 203284.4668859 , 159471.37062229,\n",
       "       238715.43538491, 180604.6882126 ,  79912.33659145, 346605.75478663,\n",
       "       183608.66056773, 201442.15532866, 194517.2058609 , 303505.18283664,\n",
       "       238621.44499061,  42770.26114631, 162449.32384903, 309650.27541616,\n",
       "       290697.68269395,  64428.20003839, 360926.74173287, 176032.72043624,\n",
       "       211764.46924502, 199298.3734084 , 126010.56742896, 117704.6102315 ,\n",
       "       215828.25457434, 218773.73327516, 205178.30045463, 190666.54471946,\n",
       "       274984.51449181, 296764.57460589, 125707.33886589, 170168.8385784 ,\n",
       "       201910.59487311, 159034.32097826, 155508.61489982, 200086.75756598,\n",
       "        96139.79774148, 266950.75556778, 278782.48671571,  94495.65126151,\n",
       "       130326.41500666, 110250.24422835, 187157.34093288, 102449.08452883,\n",
       "        60558.15280018, 114969.08388778, 147941.91211589, 190218.72009362,\n",
       "       201231.88843365,  67398.34449707, 285867.81804727,  84711.29153266,\n",
       "       248483.9401789 , 164386.35382117, 203811.99369077, 214632.07741291,\n",
       "       179957.93486604, 122840.48540953, 218867.42407038, 261489.35972965,\n",
       "       164090.55220923,  98965.3365139 , 164852.41794063, 110635.47466487,\n",
       "       101623.52051061, 157078.61764777, 117536.96095412,  81241.12763461,\n",
       "       204697.78722175, 101852.01255855, 264302.07825626, 114900.87875774,\n",
       "       185323.99676403, 132232.73596828, 203981.4303876 , 149705.71847076,\n",
       "       152627.79445341, 148877.92861812, 179044.58203216, 218622.86160433,\n",
       "       313850.42297655,  75679.16092064, 275201.2048985 , 185880.01288908,\n",
       "       133899.37440022, 113467.31580862, 188029.46069155, 136927.3454307 ,\n",
       "       147474.51650899, 194170.32297345,  92377.16923887,  64365.70938488,\n",
       "       102191.26175429,  97527.60384448, 384295.15898195, 210466.73992227,\n",
       "       177909.30457512, 147407.39161092, 355206.35824403, 218688.56948793,\n",
       "       199659.0743771 , 224056.2703894 , 104653.33125667, 292773.57983821,\n",
       "       166805.23515846, 379326.8787703 , 175989.71495748, 179602.3555134 ,\n",
       "       229929.61700622, 137113.31952058, 204666.88145542, 275412.46358637,\n",
       "       101111.39500133, 214648.26862088, 178966.8654712 , 195674.48444936,\n",
       "       235053.85234745, 156484.63573937, 200184.73725783, 195625.77036649,\n",
       "       290771.75278263, 435180.9352463 , 159450.69413365, 158398.05970785,\n",
       "       294432.60956101, 108214.86694618, 102299.11327249,  92244.66190124,\n",
       "       249871.93812143, 160645.87515891, 133244.12379944, 140820.29377609,\n",
       "       190082.73520346, 208156.16148428, 194485.03201077, 152651.32162721,\n",
       "       115945.34644209, 223808.96091296, 199551.37291329, 155230.21588322,\n",
       "       289251.78770959, 109698.97641148,  41857.70593304, 180257.84821018,\n",
       "       310571.67489058, 124076.56949511, 218074.4425255 ,  86237.82568388,\n",
       "        84151.6671422 , 137510.84445899, 135764.62000854, 180327.93109486,\n",
       "       217211.45518604, 132679.10560425, 151966.55445429, 143026.99960117,\n",
       "       272092.27078843, 219635.110003  , 164300.18505843, 267167.56181743,\n",
       "       148719.84787131, 204236.63461402, 226342.34066901, 183518.55343621,\n",
       "       221444.00345048, 209628.56564253, 297786.17966537, 194104.66021243,\n",
       "       161269.55768589, 243868.61231269, 351866.0042203 , 128458.15924376,\n",
       "       288083.1426732 ,  39843.09041174, 192866.93653011, 151320.40351081,\n",
       "       129817.4102339 , 180784.39445038, 140179.01176947,  96997.23459493,\n",
       "       104205.9147414 , 243130.88186095, 136228.28766989, 199871.34407434,\n",
       "       279724.74019272, 238870.33325662, 127447.56405231, 185829.97534722,\n",
       "       133263.62180387, 132240.02281057, 398965.77713214, 136852.12271769,\n",
       "       211335.6602592 , 187210.19463374, 368038.00569157, 117809.22223845,\n",
       "       186328.66632286, 123681.31983047, 163257.40544304, 166066.08679507,\n",
       "       186297.80236333, 228103.11899049, 195647.09755819,  97932.39096845,\n",
       "       220308.10735806, 107584.45469038, 348486.1972169 , 240567.11199327,\n",
       "       214401.40800488, 108816.3301775 , 233258.1810262 , 331184.88483367,\n",
       "       178441.64448523, 141692.35395997, 107432.20200652, 245365.8651003 ,\n",
       "       102998.41801222, 330434.38136915, 418623.91327782, 172936.12295823,\n",
       "       203814.27073167, 222898.40725727, 187028.25460363, 383578.60180653,\n",
       "       204697.09605219, 228734.79139903, 273282.83730524, 181097.94035744,\n",
       "       153311.79298647, 131241.90178853, 315759.20412971,  79289.40848958,\n",
       "        91334.29228529,  86885.98668761, 262160.91755651,  91660.74250177,\n",
       "       263276.30748313, 197070.54480949, 160936.81022059,  97969.97260246,\n",
       "       188762.44187506,  40591.13029479, 178879.5729478 , 209048.53547686,\n",
       "       139632.16283202, 141760.51852212, 101716.18538374, 129115.73902601,\n",
       "       209582.08347972, 187366.44568551, 230837.35834569, 274972.00320167,\n",
       "       109828.88173245, 248170.3236003 , 217151.10196569, 157244.39334853,\n",
       "       244727.29892641, 230547.15741709, 169921.79087875, 182810.42715948,\n",
       "       205276.02294564, 328348.55305918, 113170.97292704, 202075.22170189,\n",
       "       201448.71957177, 182612.48265273, 258314.55724148, 100835.47642659,\n",
       "       121260.9703937 ,  92413.66918934, 133090.96491579, 148828.62902129,\n",
       "       127363.0920573 ,  82007.71693436, 200398.48657251, 158693.35164873,\n",
       "       223991.37094021, 117569.98955878, 214459.59181032, 100957.73904025,\n",
       "       211247.36826132, 173369.46576592, 136446.40056574, 152303.10269165,\n",
       "       117848.98055005, 188849.22980211, 252880.62692419, 202408.59337191,\n",
       "       243559.49306281, 161161.40848479, 178950.78361155, 138193.3992286 ,\n",
       "       139258.97048949, 188730.7549726 , 216434.26383446, 147433.57185967,\n",
       "       412994.08501737, 224100.6106433 , 195920.62615894,  56311.43497822,\n",
       "       289754.7644338 , 142210.83492919, 233554.05461073, 208115.73496809,\n",
       "       200973.46061039, 278419.85296593, 225402.90282729, 208078.33278678,\n",
       "        74244.15616541, 174224.33191376, 166332.17415874, 146006.13885665,\n",
       "        77194.2098227 , 120273.26432579,  92920.9280354 , 155249.09719694,\n",
       "       207705.92601189, 123797.00136878, 142703.10673201, 330487.35729904,\n",
       "       328106.79211941, 194053.6268923 , 111662.75361723, 110496.20237421,\n",
       "       124816.02859647, 311250.19521594, 163071.02357242, 295217.25500534,\n",
       "        94510.00086955, 282621.72960368, 232425.2479937 , 139220.35560596,\n",
       "       133721.90431628, 191623.33661859, 132475.49661424, 183897.30406035,\n",
       "       418323.57134967, 203306.3104359 , 146943.01348522,  98883.86988093,\n",
       "       113738.09752681, 186080.92643515, 354070.34941888, 387502.56743227,\n",
       "       168772.76611039,  93823.63861837,  90534.488366  , 221526.17605381,\n",
       "       146739.68739251, 160758.93880033, 180244.42178707, 204695.67734122,\n",
       "       118582.96012417, 102420.41093224, 128704.64203104, 337065.84776943,\n",
       "       156777.54921928,  74698.56785295, 148527.35515445, 225800.80615604,\n",
       "       146865.93745916, 190391.97950405, 185034.37875817, 167818.32837489,\n",
       "       276793.78180012, 210834.24013737, 127314.32866287, 159241.96003153,\n",
       "       223373.54715721, 217962.71633677, 135633.5446861 , 289654.54601675,\n",
       "       130527.57790038, 119065.44765648, 292227.70341544, 167044.55439381,\n",
       "       138635.64915452,  87479.85625506, 248366.98657389, 190204.30129878,\n",
       "       153873.4594946 , 162633.73819447, 166717.12067227, 163402.75481532,\n",
       "       141728.52580397, 225120.65163373, 322556.93957115, 125741.04610194,\n",
       "       207253.35970327, 168992.83281819,  99910.79313244, 107352.92068743,\n",
       "       248161.92944711, 158583.3176118 , 223702.03358364, 383221.763582  ,\n",
       "       251763.93082856, 138177.67803728,  88376.98874417, 237826.08563865,\n",
       "       128724.33758037, 314983.70277756, 161231.47133004])"
      ]
     },
     "execution_count": 25,
     "metadata": {},
     "output_type": "execute_result"
    }
   ],
   "source": [
    "predictions = lm.predict(X_test)\n",
    "predictions"
   ]
  },
  {
   "cell_type": "markdown",
   "metadata": {},
   "source": [
    "**13)Residuals**"
   ]
  },
  {
   "cell_type": "code",
   "execution_count": 26,
   "metadata": {
    "scrolled": true
   },
   "outputs": [],
   "source": [
    "\n",
    "residuals = y_test - predictions"
   ]
  },
  {
   "cell_type": "code",
   "execution_count": 27,
   "metadata": {},
   "outputs": [
    {
     "data": {
      "text/plain": [
       "-2341.8932074491113"
      ]
     },
     "execution_count": 27,
     "metadata": {},
     "output_type": "execute_result"
    }
   ],
   "source": [
    "np.mean(residuals)"
   ]
  },
  {
   "cell_type": "code",
   "execution_count": 28,
   "metadata": {
    "scrolled": true
   },
   "outputs": [
    {
     "data": {
      "image/png": "[encoded data removed]",
      "text/plain": [
       "<Figure size 432x288 with 1 Axes>"
      ]
     },
     "metadata": {
      "needs_background": "light"
     },
     "output_type": "display_data"
    }
   ],
   "source": [
    "plt.hist(residuals);"
   ]
  },
  {
   "cell_type": "code",
   "execution_count": 29,
   "metadata": {
    "scrolled": false
   },
   "outputs": [
    {
     "data": {
      "image/png": "[encoded data removed]",
      "text/plain": [
       "<Figure size 432x288 with 1 Axes>"
      ]
     },
     "metadata": {
      "needs_background": "light"
     },
     "output_type": "display_data"
    }
   ],
   "source": [
    "plt.scatter(predictions, residuals)\n",
    "plt.axhline(0, color ='red');"
   ]
  },
  {
   "cell_type": "code",
   "execution_count": 30,
   "metadata": {},
   "outputs": [
    {
     "data": {
      "text/plain": [
       "20020.097562951407"
      ]
     },
     "execution_count": 30,
     "metadata": {},
     "output_type": "execute_result"
    }
   ],
   "source": [
    "np.mean(np.abs(residuals))"
   ]
  },
  {
   "cell_type": "markdown",
   "metadata": {},
   "source": [
    "**14) Test for Kaggel Competition***"
   ]
  },
  {
   "cell_type": "code",
   "execution_count": 31,
   "metadata": {
    "scrolled": true
   },
   "outputs": [],
   "source": [
    "testy_pred = lm.predict(testy)"
   ]
  },
  {
   "cell_type": "code",
   "execution_count": 32,
   "metadata": {
    "scrolled": true
   },
   "outputs": [],
   "source": [
    "Kaggle_predictions = pd.concat([test_id, pd.DataFrame(testy_pred, columns=['SalePrice'])], axis=1)"
   ]
  },
  {
   "cell_type": "code",
   "execution_count": 33,
   "metadata": {},
   "outputs": [
    {
     "data": {
      "text/plain": [
       "'C:\\\\Users\\\\alirodqui\\\\GA\\\\3\\\\project_2'"
      ]
     },
     "execution_count": 33,
     "metadata": {},
     "output_type": "execute_result"
    }
   ],
   "source": [
    "pwd"
   ]
  },
  {
   "cell_type": "code",
   "execution_count": 34,
   "metadata": {},
   "outputs": [],
   "source": [
    "Kaggle_predictions.to_csv('./Kaggle_predictions.csv', index=False)"
   ]
  }
 ],
 "metadata": {
  "kernelspec": {
   "display_name": "Python 3",
   "language": "python",
   "name": "python3"
  },
  "language_info": {
   "codemirror_mode": {
    "name": "ipython",
    "version": 3
   },
   "file_extension": ".py",
   "mimetype": "text/x-python",
   "name": "python",
   "nbconvert_exporter": "python",
   "pygments_lexer": "ipython3",
   "version": "3.7.6"
  }
 },
 "nbformat": 4,
 "nbformat_minor": 4
}
